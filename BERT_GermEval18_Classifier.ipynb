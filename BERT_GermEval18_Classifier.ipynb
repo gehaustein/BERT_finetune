{
  "nbformat": 4,
  "nbformat_minor": 0,
  "metadata": {
    "colab": {
      "provenance": []
    },
    "kernelspec": {
      "name": "python3",
      "display_name": "Python 3"
    },
    "language_info": {
      "name": "python"
    }
  },
  "cells": [
    {
      "cell_type": "code",
      "execution_count": null,
      "metadata": {
        "id": "6tHiG7J7tN3I"
      },
      "outputs": [],
      "source": [
        "# First, we install necessary libraries and tools.\n",
        "!pip install transformers datasets evaluate\n",
        "!pip install accelerate -U"
      ]
    },
    {
      "cell_type": "code",
      "source": [
        "# Import the function to login to HuggingFace hub from within the notebook.\n",
        "from huggingface_hub import notebook_login\n",
        "\n",
        "# Login to the HuggingFace hub.\n",
        "notebook_login()"
      ],
      "metadata": {
        "id": "HWb4VvRNtP-p"
      },
      "execution_count": null,
      "outputs": []
    },
    {
      "cell_type": "code",
      "source": [
        "# Load the GermEval 2018 dataset from HuggingFace's datasets library.\n",
        "from datasets import load_dataset\n",
        "germeval18 = load_dataset(\"philschmid/germeval18\")"
      ],
      "metadata": {
        "id": "xcc5UeMTtTBK"
      },
      "execution_count": null,
      "outputs": []
    },
    {
      "cell_type": "code",
      "source": [
        "# Import the tokenizer for the BERT-base German model.\n",
        "from transformers import AutoTokenizer\n",
        "tokenizer = AutoTokenizer.from_pretrained(\"bert-base-german-cased\")"
      ],
      "metadata": {
        "id": "jbHtb1totUb3"
      },
      "execution_count": null,
      "outputs": []
    },
    {
      "cell_type": "code",
      "source": [
        "# Define a function to preprocess the dataset by tokenizing the text data.\n",
        "def preprocess_function(examples):\n",
        "    return tokenizer(examples[\"text\"], truncation=True)"
      ],
      "metadata": {
        "id": "lr4xR1TxtWEm"
      },
      "execution_count": null,
      "outputs": []
    },
    {
      "cell_type": "code",
      "source": [
        "# Apply the preprocessing function to the dataset.\n",
        "tokenized_germeval18 = germeval18.map(preprocess_function, batched=True)"
      ],
      "metadata": {
        "id": "-y8Z7ffEtXoX"
      },
      "execution_count": null,
      "outputs": []
    },
    {
      "cell_type": "code",
      "source": [
        "# Import a data collator that will pad the tokenized sequences.\n",
        "from transformers import DataCollatorWithPadding\n",
        "data_collator = DataCollatorWithPadding(tokenizer=tokenizer)"
      ],
      "metadata": {
        "id": "KuiM71sTtZN-"
      },
      "execution_count": null,
      "outputs": []
    },
    {
      "cell_type": "code",
      "source": [
        "# Import the evaluate library and load the accuracy metric.\n",
        "import evaluate\n",
        "accuracy = evaluate.load(\"accuracy\")"
      ],
      "metadata": {
        "id": "dhOsJAMptbIN"
      },
      "execution_count": null,
      "outputs": []
    },
    {
      "cell_type": "code",
      "source": [
        "# Define a function to compute metrics, in this case, accuracy.\n",
        "def compute_metrics(eval_pred):\n",
        "    predictions, labels = eval_pred\n",
        "    predictions = np.argmax(predictions, axis=1)\n",
        "    return accuracy.compute(predictions=predictions, references=labels)\n"
      ],
      "metadata": {
        "id": "nBnorKwJtc9f"
      },
      "execution_count": null,
      "outputs": []
    },
    {
      "cell_type": "code",
      "source": [
        "# Define mapping between labels and their IDs.\n",
        "id2label = {0: \"OTHER\", 1: \"OFFENSE\"}\n",
        "label2id = {\"OTHER\": 0, \"OFFENSE\": 1}"
      ],
      "metadata": {
        "id": "kielWWgQteT5"
      },
      "execution_count": null,
      "outputs": []
    },
    {
      "cell_type": "code",
      "source": [
        "# Import and initialize the model for sequence classification.\n",
        "from transformers import AutoModelForSequenceClassification, TrainingArguments, Trainer\n",
        "model = AutoModelForSequenceClassification.from_pretrained(\n",
        "    \"bert-base-german-cased\", num_labels=2, id2label=id2label, label2id=label2id\n",
        ")"
      ],
      "metadata": {
        "id": "muhKTTm3tfzi"
      },
      "execution_count": null,
      "outputs": []
    },
    {
      "cell_type": "code",
      "source": [
        "# Remove and rename certain columns from the dataset.\n",
        "tokenized_germeval18 = tokenized_germeval18.remove_columns([\"multi\"])\n",
        "tokenized_germeval18 = tokenized_germeval18.rename_column(\"binary\", \"label\")"
      ],
      "metadata": {
        "id": "N4E8vpXWthRz"
      },
      "execution_count": null,
      "outputs": []
    },
    {
      "cell_type": "code",
      "source": [
        "# Define class names for the classification task.\n",
        "class_names = ['OTHER', 'OFFENSE']"
      ],
      "metadata": {
        "id": "-dKWSGPqtixQ"
      },
      "execution_count": null,
      "outputs": []
    },
    {
      "cell_type": "code",
      "source": [
        "# Define a function to convert label names to their corresponding IDs.\n",
        "def label_to_id(example):\n",
        "    example['label'] = class_names.index(example['label'])\n",
        "    return example"
      ],
      "metadata": {
        "id": "7UJkCZMYtkGe"
      },
      "execution_count": null,
      "outputs": []
    },
    {
      "cell_type": "code",
      "source": [
        "# Convert labels in the dataset to their respective IDs.\n",
        "from datasets import ClassLabel\n",
        "for split in tokenized_germeval18.keys():\n",
        "    tokenized_germeval18[split] = tokenized_germeval18[split].map(label_to_id)\n",
        "    tokenized_germeval18[split].features['label'] = ClassLabel(names=class_names)"
      ],
      "metadata": {
        "id": "h3nk6h9MtlX4"
      },
      "execution_count": null,
      "outputs": []
    },
    {
      "cell_type": "code",
      "source": [
        "# Define training arguments such as learning rate, batch size, etc.\n",
        "training_args = TrainingArguments(\n",
        "    output_dir=\"bert-base-german-cased-hatespeech-GermEval18\",\n",
        "    learning_rate=2e-5,\n",
        "    per_device_train_batch_size=16,\n",
        "    per_device_eval_batch_size=16,\n",
        "    num_train_epochs=2,\n",
        "    weight_decay=0.01,\n",
        "    evaluation_strategy=\"epoch\",\n",
        "    save_strategy=\"epoch\",\n",
        "    load_best_model_at_end=True,\n",
        "    push_to_hub=True,\n",
        ")"
      ],
      "metadata": {
        "id": "ty6ZENwNtnNw"
      },
      "execution_count": null,
      "outputs": []
    },
    {
      "cell_type": "code",
      "source": [
        "# Initialize the Trainer class to handle model training.\n",
        "trainer = Trainer(\n",
        "    model=model,\n",
        "    args=training_args,\n",
        "    train_dataset=tokenized_germeval18[\"train\"],\n",
        "    eval_dataset=tokenized_germeval18[\"test\"],\n",
        "    tokenizer=tokenizer,\n",
        "    data_collator=data_collator,\n",
        "    compute_metrics=compute_metrics,\n",
        ")"
      ],
      "metadata": {
        "id": "iu8AaH4Otoxj"
      },
      "execution_count": null,
      "outputs": []
    },
    {
      "cell_type": "code",
      "source": [
        "# Begin the model training process.\n",
        "trainer.train()"
      ],
      "metadata": {
        "id": "dHOYGI-NtrDQ"
      },
      "execution_count": null,
      "outputs": []
    }
  ]
}